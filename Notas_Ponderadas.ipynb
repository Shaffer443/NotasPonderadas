{
  "nbformat": 4,
  "nbformat_minor": 0,
  "metadata": {
    "colab": {
      "provenance": [],
      "authorship_tag": "ABX9TyO4UqwuXED7YTkTrwmO4478",
      "include_colab_link": true
    },
    "kernelspec": {
      "name": "python3",
      "display_name": "Python 3"
    },
    "language_info": {
      "name": "python"
    }
  },
  "cells": [
    {
      "cell_type": "markdown",
      "metadata": {
        "id": "view-in-github",
        "colab_type": "text"
      },
      "source": [
        "<a href=\"https://colab.research.google.com/github/Shaffer443/NotasPonderadas/blob/main/Notas_Ponderadas.ipynb\" target=\"_parent\"><img src=\"https://colab.research.google.com/assets/colab-badge.svg\" alt=\"Open In Colab\"/></a>"
      ]
    },
    {
      "cell_type": "markdown",
      "source": [
        "1 - Insira a quantidade de avaliações que deseja analisar as ponderações das notas. (exemplo: Apol 1 e 2, Atividade Prática e Atividade objetiva = 4)<br><br>\n",
        "2 - De acordo com a quantidade de avaliações, informe o peso de cada uma das avaliaçôes e se existe nota para cada um delas. Caso não exista nota, por exemplo, por ainda ter feito uma ou mais das avaliações, coloque 0(zero) na nota.<br><br>\n",
        "3 - Informe a media para aprovação na disciplina. Exemplo: Caso a média seja 7,0, digite 70.\n",
        "\n",
        "Limitações:\n",
        "\n",
        "- Até o momento, precisa ter, ao menos 3 avaliações e não mais que 4. Onde no máximo duas avaliações podem não terem nota. Exemplo: Avaliação 01 - Nota: 90, valiação 02 - Nota: 80,valiação 03 - Nota: 0 e valiação 04 - Nota: 0. Ou seja, das 4 avaliações, duas não tem nota, pro não terem sido feitas ainda.\n",
        "\n",
        "Melhorias Futuras:\n",
        "\n",
        "- ~Infromar no resumo final, com todas a avaliações coms os dados completos, e as previsões para aprovação das atividade/avaliações que ainda não foram feitas.~\n"
      ],
      "metadata": {
        "id": "wGZ9juT3VdCl"
      }
    },
    {
      "cell_type": "code",
      "execution_count": 100,
      "metadata": {
        "colab": {
          "base_uri": "https://localhost:8080/"
        },
        "id": "C-eHkcxAI6J3",
        "outputId": "b08afe7a-82cf-4b22-f213-f006d707fd0b"
      },
      "outputs": [
        {
          "output_type": "stream",
          "name": "stdout",
          "text": [
            "Quantas atividades no geral?: 4\n",
            "\n",
            "Peso da Atividade 1: 15\n",
            "Nota da Atividade 1: 90\n",
            "\n",
            "Peso da Atividade 2: 15\n",
            "Nota da Atividade 2: 80\n",
            "\n",
            "Peso da Atividade 3: 40\n",
            "Nota da Atividade 3: 70\n",
            "\n",
            "Peso da Atividade 4: 30\n",
            "Nota da Atividade 4: 0\n",
            "\n",
            "\n",
            "[1, 2, 3, 4]\n",
            "[15, 15, 40, 30]\n",
            "[90, 80, 70, 0]\n"
          ]
        }
      ],
      "source": [
        "# Pegando dados iniciais:\n",
        "\n",
        "qtd_Atividades = int(input(\"Quantas atividades no geral?: \"))\n",
        "\n",
        "listaAtividade = []\n",
        "listaPesoPontos = []\n",
        "listaNotas = []\n",
        "\n",
        "qtd = 1\n",
        "while qtd <= qtd_Atividades:\n",
        "  pesoDaAtividade = int(input(f\"\\nPeso da Atividade {qtd}: \"))\n",
        "  notaDaAtividade = int(input(f\"Nota da Atividade {qtd}: \"))\n",
        "  listaAtividade.append(qtd)\n",
        "  listaPesoPontos.append(pesoDaAtividade)\n",
        "  listaNotas.append(notaDaAtividade)\n",
        "  qtd += 1\n",
        "\n",
        "print(\"\\n\")\n",
        "print(listaAtividade)\n",
        "print(listaPesoPontos)\n",
        "print(listaNotas)\n"
      ]
    },
    {
      "cell_type": "code",
      "source": [
        "# Aproveitamento:\n",
        "\n",
        "aproveitamentoAtual = {}\n",
        "\n",
        "def aproveitamentoPorAvaliacao(pontosDaAvaliacao, nota, pontosTotais=100):\n",
        "  # Peso da avaliação - Pontos da avaliação. Exemplo: 15% = 15 pontos\n",
        "  # nota tirada na valiação\n",
        "  # x = aproveitamento na avaliação\n",
        "  aproveitamento = (nota * pontosDaAvaliacao)/pontosTotais\n",
        "  print(f\"Aproveitamento de {aproveitamento:.1f}\")\n",
        "  return aproveitamento\n",
        "\n",
        "atividade = 0\n",
        "while atividade < qtd_Atividades:\n",
        "  chave = f'Atividade{atividade}'\n",
        "  aproveitamentoAtual[chave] = aproveitamentoPorAvaliacao(listaPesoPontos[atividade], listaNotas[atividade])\n",
        "  atividade += 1\n",
        "print(\"\\nAproveitamento das Atividades\")\n",
        "print(aproveitamentoAtual)"
      ],
      "metadata": {
        "colab": {
          "base_uri": "https://localhost:8080/"
        },
        "id": "kHCsU1hFWMlM",
        "outputId": "e325c118-73f7-4a18-f141-8c584bfb4f06"
      },
      "execution_count": 107,
      "outputs": [
        {
          "output_type": "stream",
          "name": "stdout",
          "text": [
            "Aproveitamento de 13.5\n",
            "Aproveitamento de 12.0\n",
            "Aproveitamento de 28.0\n",
            "Aproveitamento de 0.0\n",
            "\n",
            "Aproveitamento das Atividades\n",
            "{'Atividade0': 13.5, 'Atividade1': 12.0, 'Atividade2': 28.0, 'Atividade3': 0.0}\n"
          ]
        }
      ]
    },
    {
      "cell_type": "code",
      "source": [
        "pontosObjetivado = int(input(\"Qual a média mínima para aprovação na disciplina?: \"))\n",
        "\n",
        "pontuacaoAtual = sum(aproveitamentoAtual.values())\n",
        "# print(pontuacaoAtual)\n",
        "\n",
        "def pontuacaoNecessaria(pontosAtuais, pontosObjetivado ):\n",
        "  pontosFaltantes = pontosObjetivado - pontosAtuais\n",
        "  print(f\"Pontos a conquistar é de {pontosFaltantes}\")\n",
        "  return pontosFaltantes\n",
        "\n",
        "# pontuacaoNecessaria(25.5, 22.25)\n",
        "print(f\"Total de Pontos Atuais {pontuacaoAtual}\")\n"
      ],
      "metadata": {
        "colab": {
          "base_uri": "https://localhost:8080/"
        },
        "id": "PXx3WclVUAa0",
        "outputId": "4b3dd58f-a884-4794-8630-12207941e9ea"
      },
      "execution_count": 102,
      "outputs": [
        {
          "output_type": "stream",
          "name": "stdout",
          "text": [
            "Qual a média mínima para aprovação na disciplina?: 70\n",
            "Total de Pontos Atuais 53.5\n"
          ]
        }
      ]
    },
    {
      "cell_type": "code",
      "source": [
        "# pontosTotais = 100 # Peso total. Exemplo: 15%+15%+40%+30% = 100%\n",
        "\n",
        "def notaNecessaria(pontosDaAvaliacao, pontosFaltando_ou_Nota, pontosTotais=100):\n",
        "  #quantidade de pontos da avaliação (peso)\n",
        "  #peso total de pontos = 100\n",
        "  # quantidade de pontos faltantes para um apovação. Exemplo: 41,5-70 = 28,5\n",
        "  # x = nota a se achar\n",
        "  x= ( pontosFaltando_ou_Nota * pontosTotais)/pontosDaAvaliacao\n",
        "  print(f\"Nota mínima na avaliaçao: {x:.0f}\")\n",
        "  return x\n",
        "\n",
        "\n",
        "# notaNecessaria(30,22.25)"
      ],
      "metadata": {
        "id": "5--FNfCiJeru"
      },
      "execution_count": 134,
      "outputs": []
    },
    {
      "cell_type": "code",
      "source": [
        "# Previsões de notas para se buscar:\n",
        "\n",
        "if listaNotas[-2] == 0 and listaNotas[-1] == 0:\n",
        "\n",
        "  buscando = (pontosObjetivado-pontuacaoAtual)/2\n",
        "\n",
        "  penultimaAtividade = notaNecessaria(listaPesoPontos[-2],buscando)\n",
        "  ultimaAtividade = notaNecessaria(listaPesoPontos[-1],buscando)\n",
        "\n",
        "  print(f\"Na avaliação de peso {listaPesoPontos[-2]}, você precisa de uma nota minima de {round(penultimaAtividade)}\")\n",
        "  print(f\"Na avaliação de peso {listaPesoPontos[-1]}, você precisa de uma nota minima de {round(ultimaAtividade)}\")\n",
        "\n",
        "elif listaNotas[-1] == 0:\n",
        "  ultimaAtividade = notaNecessaria(listaPesoPontos[-1],pontuacaoNecessaria(pontuacaoAtual, pontosObjetivado))\n",
        "  print(f\"Na ultima avaliação de peso {listaPesoPontos[-1]}, você precisa de uma nota minima de {round(ultimaAtividade)}\")"
      ],
      "metadata": {
        "colab": {
          "base_uri": "https://localhost:8080/"
        },
        "id": "wjXx0nveLcP6",
        "outputId": "7b31c164-e44e-45c2-dc3b-33083e1dd9b5"
      },
      "execution_count": 105,
      "outputs": [
        {
          "output_type": "stream",
          "name": "stdout",
          "text": [
            "Pontos a conquistar é de 16.5\n",
            "Nota mínima na avaliaçao: 55\n",
            "Na ultima avaliação de peso 30, você precisa de uma nota minima de 55\n"
          ]
        }
      ]
    },
    {
      "cell_type": "code",
      "source": [
        "# Pegando as chaves do dicionario:\n",
        "\n",
        "chaves = aproveitamentoAtual.keys()\n",
        "nomeChavesLista = []\n",
        "\n",
        "for nome in chaves:\n",
        "  nomeChavesLista.append(nome)\n",
        "  # print(nome)\n",
        "\n",
        "\n",
        "# print(chaves)\n",
        "# print(len(chaves))\n",
        "# print(nomeChavesLista)\n",
        "# print(nomeChavesLista[0])\n",
        "# print(aproveitamentoAtual['Atividade0'])\n"
      ],
      "metadata": {
        "id": "PCOXY5t3vzcz"
      },
      "execution_count": 142,
      "outputs": []
    },
    {
      "cell_type": "code",
      "source": [
        "# Resumo\n",
        "\n",
        "chaves = aproveitamentoAtual.keys()\n",
        "resumo = [{'Avaliação0': {'Peso': 15, 'Nota': 90, 'Aproveitamento':13.5}}]\n",
        "\n",
        "print(\"Resumo\")\n",
        "\n",
        "contador= 0\n",
        "if listaNotas[-2] == 0 and listaNotas[-1] == 0:\n",
        "  while contador < qtd_Atividades-2:\n",
        "    print(f\"Avaliação {listaAtividade[contador]}: Peso: {listaPesoPontos[contador]}, Nota: {listaNotas[contador]}, Aprovetamento: {aproveitamentoAtual[nomeChavesLista[contador]]} de {listaPesoPontos[contador]}.\")\n",
        "    contador += 1\n",
        "  print(f\"Avaliação {listaAtividade[contador]}: Peso: {listaPesoPontos[contador]}, Nota Minima: {round(penultimaAtividade)}.\")\n",
        "  print(f\"Avaliação {listaAtividade[contador]}: Peso: {listaPesoPontos[contador]}, Nota Minima: {round(ultimaAtividade)}.\")\n",
        "\n",
        "if listaNotas[-1] == 0:\n",
        "  while contador < qtd_Atividades-1:\n",
        "    print(f\"Avaliação {listaAtividade[contador]}: Peso: {listaPesoPontos[contador]}, Nota: {listaNotas[contador]}, Aprovetamento: {aproveitamentoAtual[nomeChavesLista[contador]]} de {listaPesoPontos[contador]}.\")\n",
        "    contador += 1\n",
        "  print(f\"Avaliação {listaAtividade[contador]}: Peso: {listaPesoPontos[contador]}, Nota Minima: {round(ultimaAtividade)}.\")\n",
        "\n",
        "else:\n",
        "  while contador < qtd_Atividades:\n",
        "    print(f\"Avaliação {listaAtividade[contador]}: Peso: {listaPesoPontos[contador]}, Nota: {listaNotas[contador]}, Aprovetamento: {aproveitamentoAtual[nomeChavesLista[contador]]} de {listaPesoPontos[contador]}.\")\n",
        "    contador += 1\n",
        "\n",
        "# print(chaves)\n",
        "# print(resumo)"
      ],
      "metadata": {
        "colab": {
          "base_uri": "https://localhost:8080/"
        },
        "id": "vndrpSKDtB5r",
        "outputId": "a7db354a-d3cb-4bbf-a042-22e893f9f6a2"
      },
      "execution_count": 149,
      "outputs": [
        {
          "output_type": "stream",
          "name": "stdout",
          "text": [
            "Resumo\n",
            "Avaliação 1: Peso: 15, Nota: 90, Aprovetamento: 13.5 de 15.\n",
            "Avaliação 2: Peso: 15, Nota: 80, Aprovetamento: 12.0 de 15.\n",
            "Avaliação 3: Peso: 40, Nota: 70, Aprovetamento: 28.0 de 40.\n",
            "Avaliação 4: Peso: 30, Nota Minima: 55.\n"
          ]
        }
      ]
    }
  ]
}